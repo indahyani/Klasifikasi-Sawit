{
 "cells": [
  {
   "cell_type": "code",
   "execution_count": 1,
   "metadata": {},
   "outputs": [],
   "source": [
    "import cv2\n",
    "import glob\n",
    "import numpy\n",
    "import numpy as np\n",
    "import csv\n",
    "import pandas as pd\n",
    "from matplotlib import pyplot as plt\n",
    "from  PIL import Image\n"
   ]
  },
  {
   "cell_type": "code",
   "execution_count": 3,
   "metadata": {},
   "outputs": [
    {
     "name": "stderr",
     "output_type": "stream",
     "text": [
      "Lossy conversion from float64 to uint8. Range [0, 1]. Convert image to uint8 prior to saving to suppress this warning.\n"
     ]
    }
   ],
   "source": [
    "import numpy\n",
    "import glob\n",
    "import cv2\n",
    "import csv\n",
    "import math\n",
    "import os\n",
    "import string\n",
    "from skimage.color import rgb2gray\n",
    "from skimage.color import rgb2ycbcr\n",
    "from skimage.io import imsave    # skimage method for saving image\n",
    "from PIL import Image\n",
    "\n",
    "mylist = [f for f in glob.glob(\"*.jpg\")]\n",
    "\n",
    "for imagefile in mylist:\n",
    "    img_color = cv2.imread(imagefile)\n",
    "    image = cv2.resize(img_color,(100,100),interpolation = cv2.INTER_AREA)\n",
    "    img_gray = rgb2gray(image)\n",
    "    img_gray.flatten()\n",
    "    imsave(\"gray\"+imagefile, img_gray) "
   ]
  },
  {
   "cell_type": "code",
   "execution_count": 1,
   "metadata": {},
   "outputs": [
    {
     "ename": "TypeError",
     "evalue": "Invalid shape (666,) for image data",
     "output_type": "error",
     "traceback": [
      "\u001b[1;31m---------------------------------------------------------------------------\u001b[0m",
      "\u001b[1;31mTypeError\u001b[0m                                 Traceback (most recent call last)",
      "\u001b[1;32mi:\\KULIAH\\Semester_8\\PROPOSAL-TA\\Skripsi\\Preprocessing.ipynb Cell 3\u001b[0m in \u001b[0;36m<cell line: 10>\u001b[1;34m()\u001b[0m\n\u001b[0;32m      <a href='vscode-notebook-cell:/i%3A/KULIAH/Semester_8/PROPOSAL-TA/Skripsi/Preprocessing.ipynb#ch0000002?line=7'>8</a>\u001b[0m img \u001b[39m=\u001b[39m mpimg\u001b[39m.\u001b[39mimread(\u001b[39m'\u001b[39m\u001b[39mA1.png\u001b[39m\u001b[39m'\u001b[39m)     \n\u001b[0;32m      <a href='vscode-notebook-cell:/i%3A/KULIAH/Semester_8/PROPOSAL-TA/Skripsi/Preprocessing.ipynb#ch0000002?line=8'>9</a>\u001b[0m gray \u001b[39m=\u001b[39m rgb2gray(img)    \n\u001b[1;32m---> <a href='vscode-notebook-cell:/i%3A/KULIAH/Semester_8/PROPOSAL-TA/Skripsi/Preprocessing.ipynb#ch0000002?line=9'>10</a>\u001b[0m plt\u001b[39m.\u001b[39;49mimshow(gray, cmap\u001b[39m=\u001b[39;49mplt\u001b[39m.\u001b[39;49mget_cmap(\u001b[39m'\u001b[39;49m\u001b[39mgray\u001b[39;49m\u001b[39m'\u001b[39;49m), vmin\u001b[39m=\u001b[39;49m\u001b[39m0\u001b[39;49m, vmax\u001b[39m=\u001b[39;49m\u001b[39m1\u001b[39;49m)\n\u001b[0;32m     <a href='vscode-notebook-cell:/i%3A/KULIAH/Semester_8/PROPOSAL-TA/Skripsi/Preprocessing.ipynb#ch0000002?line=10'>11</a>\u001b[0m plt\u001b[39m.\u001b[39mshow()\n",
      "File \u001b[1;32m~\\AppData\\Local\\Packages\\PythonSoftwareFoundation.Python.3.10_qbz5n2kfra8p0\\LocalCache\\local-packages\\Python310\\site-packages\\matplotlib\\_api\\deprecation.py:459\u001b[0m, in \u001b[0;36mmake_keyword_only.<locals>.wrapper\u001b[1;34m(*args, **kwargs)\u001b[0m\n\u001b[0;32m    453\u001b[0m \u001b[39mif\u001b[39;00m \u001b[39mlen\u001b[39m(args) \u001b[39m>\u001b[39m name_idx:\n\u001b[0;32m    454\u001b[0m     warn_deprecated(\n\u001b[0;32m    455\u001b[0m         since, message\u001b[39m=\u001b[39m\u001b[39m\"\u001b[39m\u001b[39mPassing the \u001b[39m\u001b[39m%(name)s\u001b[39;00m\u001b[39m \u001b[39m\u001b[39m%(obj_type)s\u001b[39;00m\u001b[39m \u001b[39m\u001b[39m\"\u001b[39m\n\u001b[0;32m    456\u001b[0m         \u001b[39m\"\u001b[39m\u001b[39mpositionally is deprecated since Matplotlib \u001b[39m\u001b[39m%(since)s\u001b[39;00m\u001b[39m; the \u001b[39m\u001b[39m\"\u001b[39m\n\u001b[0;32m    457\u001b[0m         \u001b[39m\"\u001b[39m\u001b[39mparameter will become keyword-only \u001b[39m\u001b[39m%(removal)s\u001b[39;00m\u001b[39m.\u001b[39m\u001b[39m\"\u001b[39m,\n\u001b[0;32m    458\u001b[0m         name\u001b[39m=\u001b[39mname, obj_type\u001b[39m=\u001b[39m\u001b[39mf\u001b[39m\u001b[39m\"\u001b[39m\u001b[39mparameter of \u001b[39m\u001b[39m{\u001b[39;00mfunc\u001b[39m.\u001b[39m\u001b[39m__name__\u001b[39m\u001b[39m}\u001b[39;00m\u001b[39m()\u001b[39m\u001b[39m\"\u001b[39m)\n\u001b[1;32m--> 459\u001b[0m \u001b[39mreturn\u001b[39;00m func(\u001b[39m*\u001b[39margs, \u001b[39m*\u001b[39m\u001b[39m*\u001b[39mkwargs)\n",
      "File \u001b[1;32m~\\AppData\\Local\\Packages\\PythonSoftwareFoundation.Python.3.10_qbz5n2kfra8p0\\LocalCache\\local-packages\\Python310\\site-packages\\matplotlib\\pyplot.py:2652\u001b[0m, in \u001b[0;36mimshow\u001b[1;34m(X, cmap, norm, aspect, interpolation, alpha, vmin, vmax, origin, extent, interpolation_stage, filternorm, filterrad, resample, url, data, **kwargs)\u001b[0m\n\u001b[0;32m   2646\u001b[0m \u001b[39m@_copy_docstring_and_deprecators\u001b[39m(Axes\u001b[39m.\u001b[39mimshow)\n\u001b[0;32m   2647\u001b[0m \u001b[39mdef\u001b[39;00m \u001b[39mimshow\u001b[39m(\n\u001b[0;32m   2648\u001b[0m         X, cmap\u001b[39m=\u001b[39m\u001b[39mNone\u001b[39;00m, norm\u001b[39m=\u001b[39m\u001b[39mNone\u001b[39;00m, aspect\u001b[39m=\u001b[39m\u001b[39mNone\u001b[39;00m, interpolation\u001b[39m=\u001b[39m\u001b[39mNone\u001b[39;00m,\n\u001b[0;32m   2649\u001b[0m         alpha\u001b[39m=\u001b[39m\u001b[39mNone\u001b[39;00m, vmin\u001b[39m=\u001b[39m\u001b[39mNone\u001b[39;00m, vmax\u001b[39m=\u001b[39m\u001b[39mNone\u001b[39;00m, origin\u001b[39m=\u001b[39m\u001b[39mNone\u001b[39;00m, extent\u001b[39m=\u001b[39m\u001b[39mNone\u001b[39;00m, \u001b[39m*\u001b[39m,\n\u001b[0;32m   2650\u001b[0m         interpolation_stage\u001b[39m=\u001b[39m\u001b[39mNone\u001b[39;00m, filternorm\u001b[39m=\u001b[39m\u001b[39mTrue\u001b[39;00m, filterrad\u001b[39m=\u001b[39m\u001b[39m4.0\u001b[39m,\n\u001b[0;32m   2651\u001b[0m         resample\u001b[39m=\u001b[39m\u001b[39mNone\u001b[39;00m, url\u001b[39m=\u001b[39m\u001b[39mNone\u001b[39;00m, data\u001b[39m=\u001b[39m\u001b[39mNone\u001b[39;00m, \u001b[39m*\u001b[39m\u001b[39m*\u001b[39mkwargs):\n\u001b[1;32m-> 2652\u001b[0m     __ret \u001b[39m=\u001b[39m gca()\u001b[39m.\u001b[39mimshow(\n\u001b[0;32m   2653\u001b[0m         X, cmap\u001b[39m=\u001b[39mcmap, norm\u001b[39m=\u001b[39mnorm, aspect\u001b[39m=\u001b[39maspect,\n\u001b[0;32m   2654\u001b[0m         interpolation\u001b[39m=\u001b[39minterpolation, alpha\u001b[39m=\u001b[39malpha, vmin\u001b[39m=\u001b[39mvmin,\n\u001b[0;32m   2655\u001b[0m         vmax\u001b[39m=\u001b[39mvmax, origin\u001b[39m=\u001b[39morigin, extent\u001b[39m=\u001b[39mextent,\n\u001b[0;32m   2656\u001b[0m         interpolation_stage\u001b[39m=\u001b[39minterpolation_stage,\n\u001b[0;32m   2657\u001b[0m         filternorm\u001b[39m=\u001b[39mfilternorm, filterrad\u001b[39m=\u001b[39mfilterrad, resample\u001b[39m=\u001b[39mresample,\n\u001b[0;32m   2658\u001b[0m         url\u001b[39m=\u001b[39murl, \u001b[39m*\u001b[39m\u001b[39m*\u001b[39m({\u001b[39m\"\u001b[39m\u001b[39mdata\u001b[39m\u001b[39m\"\u001b[39m: data} \u001b[39mif\u001b[39;00m data \u001b[39mis\u001b[39;00m \u001b[39mnot\u001b[39;00m \u001b[39mNone\u001b[39;00m \u001b[39melse\u001b[39;00m {}),\n\u001b[0;32m   2659\u001b[0m         \u001b[39m*\u001b[39m\u001b[39m*\u001b[39mkwargs)\n\u001b[0;32m   2660\u001b[0m     sci(__ret)\n\u001b[0;32m   2661\u001b[0m     \u001b[39mreturn\u001b[39;00m __ret\n",
      "File \u001b[1;32m~\\AppData\\Local\\Packages\\PythonSoftwareFoundation.Python.3.10_qbz5n2kfra8p0\\LocalCache\\local-packages\\Python310\\site-packages\\matplotlib\\_api\\deprecation.py:459\u001b[0m, in \u001b[0;36mmake_keyword_only.<locals>.wrapper\u001b[1;34m(*args, **kwargs)\u001b[0m\n\u001b[0;32m    453\u001b[0m \u001b[39mif\u001b[39;00m \u001b[39mlen\u001b[39m(args) \u001b[39m>\u001b[39m name_idx:\n\u001b[0;32m    454\u001b[0m     warn_deprecated(\n\u001b[0;32m    455\u001b[0m         since, message\u001b[39m=\u001b[39m\u001b[39m\"\u001b[39m\u001b[39mPassing the \u001b[39m\u001b[39m%(name)s\u001b[39;00m\u001b[39m \u001b[39m\u001b[39m%(obj_type)s\u001b[39;00m\u001b[39m \u001b[39m\u001b[39m\"\u001b[39m\n\u001b[0;32m    456\u001b[0m         \u001b[39m\"\u001b[39m\u001b[39mpositionally is deprecated since Matplotlib \u001b[39m\u001b[39m%(since)s\u001b[39;00m\u001b[39m; the \u001b[39m\u001b[39m\"\u001b[39m\n\u001b[0;32m    457\u001b[0m         \u001b[39m\"\u001b[39m\u001b[39mparameter will become keyword-only \u001b[39m\u001b[39m%(removal)s\u001b[39;00m\u001b[39m.\u001b[39m\u001b[39m\"\u001b[39m,\n\u001b[0;32m    458\u001b[0m         name\u001b[39m=\u001b[39mname, obj_type\u001b[39m=\u001b[39m\u001b[39mf\u001b[39m\u001b[39m\"\u001b[39m\u001b[39mparameter of \u001b[39m\u001b[39m{\u001b[39;00mfunc\u001b[39m.\u001b[39m\u001b[39m__name__\u001b[39m\u001b[39m}\u001b[39;00m\u001b[39m()\u001b[39m\u001b[39m\"\u001b[39m)\n\u001b[1;32m--> 459\u001b[0m \u001b[39mreturn\u001b[39;00m func(\u001b[39m*\u001b[39margs, \u001b[39m*\u001b[39m\u001b[39m*\u001b[39mkwargs)\n",
      "File \u001b[1;32m~\\AppData\\Local\\Packages\\PythonSoftwareFoundation.Python.3.10_qbz5n2kfra8p0\\LocalCache\\local-packages\\Python310\\site-packages\\matplotlib\\__init__.py:1412\u001b[0m, in \u001b[0;36m_preprocess_data.<locals>.inner\u001b[1;34m(ax, data, *args, **kwargs)\u001b[0m\n\u001b[0;32m   1409\u001b[0m \u001b[39m@functools\u001b[39m\u001b[39m.\u001b[39mwraps(func)\n\u001b[0;32m   1410\u001b[0m \u001b[39mdef\u001b[39;00m \u001b[39minner\u001b[39m(ax, \u001b[39m*\u001b[39margs, data\u001b[39m=\u001b[39m\u001b[39mNone\u001b[39;00m, \u001b[39m*\u001b[39m\u001b[39m*\u001b[39mkwargs):\n\u001b[0;32m   1411\u001b[0m     \u001b[39mif\u001b[39;00m data \u001b[39mis\u001b[39;00m \u001b[39mNone\u001b[39;00m:\n\u001b[1;32m-> 1412\u001b[0m         \u001b[39mreturn\u001b[39;00m func(ax, \u001b[39m*\u001b[39m\u001b[39mmap\u001b[39m(sanitize_sequence, args), \u001b[39m*\u001b[39m\u001b[39m*\u001b[39mkwargs)\n\u001b[0;32m   1414\u001b[0m     bound \u001b[39m=\u001b[39m new_sig\u001b[39m.\u001b[39mbind(ax, \u001b[39m*\u001b[39margs, \u001b[39m*\u001b[39m\u001b[39m*\u001b[39mkwargs)\n\u001b[0;32m   1415\u001b[0m     auto_label \u001b[39m=\u001b[39m (bound\u001b[39m.\u001b[39marguments\u001b[39m.\u001b[39mget(label_namer)\n\u001b[0;32m   1416\u001b[0m                   \u001b[39mor\u001b[39;00m bound\u001b[39m.\u001b[39mkwargs\u001b[39m.\u001b[39mget(label_namer))\n",
      "File \u001b[1;32m~\\AppData\\Local\\Packages\\PythonSoftwareFoundation.Python.3.10_qbz5n2kfra8p0\\LocalCache\\local-packages\\Python310\\site-packages\\matplotlib\\axes\\_axes.py:5481\u001b[0m, in \u001b[0;36mAxes.imshow\u001b[1;34m(self, X, cmap, norm, aspect, interpolation, alpha, vmin, vmax, origin, extent, interpolation_stage, filternorm, filterrad, resample, url, **kwargs)\u001b[0m\n\u001b[0;32m   5474\u001b[0m \u001b[39mself\u001b[39m\u001b[39m.\u001b[39mset_aspect(aspect)\n\u001b[0;32m   5475\u001b[0m im \u001b[39m=\u001b[39m mimage\u001b[39m.\u001b[39mAxesImage(\u001b[39mself\u001b[39m, cmap, norm, interpolation,\n\u001b[0;32m   5476\u001b[0m                       origin, extent, filternorm\u001b[39m=\u001b[39mfilternorm,\n\u001b[0;32m   5477\u001b[0m                       filterrad\u001b[39m=\u001b[39mfilterrad, resample\u001b[39m=\u001b[39mresample,\n\u001b[0;32m   5478\u001b[0m                       interpolation_stage\u001b[39m=\u001b[39minterpolation_stage,\n\u001b[0;32m   5479\u001b[0m                       \u001b[39m*\u001b[39m\u001b[39m*\u001b[39mkwargs)\n\u001b[1;32m-> 5481\u001b[0m im\u001b[39m.\u001b[39;49mset_data(X)\n\u001b[0;32m   5482\u001b[0m im\u001b[39m.\u001b[39mset_alpha(alpha)\n\u001b[0;32m   5483\u001b[0m \u001b[39mif\u001b[39;00m im\u001b[39m.\u001b[39mget_clip_path() \u001b[39mis\u001b[39;00m \u001b[39mNone\u001b[39;00m:\n\u001b[0;32m   5484\u001b[0m     \u001b[39m# image does not already have clipping set, clip to axes patch\u001b[39;00m\n",
      "File \u001b[1;32m~\\AppData\\Local\\Packages\\PythonSoftwareFoundation.Python.3.10_qbz5n2kfra8p0\\LocalCache\\local-packages\\Python310\\site-packages\\matplotlib\\image.py:715\u001b[0m, in \u001b[0;36m_ImageBase.set_data\u001b[1;34m(self, A)\u001b[0m\n\u001b[0;32m    711\u001b[0m     \u001b[39mself\u001b[39m\u001b[39m.\u001b[39m_A \u001b[39m=\u001b[39m \u001b[39mself\u001b[39m\u001b[39m.\u001b[39m_A[:, :, \u001b[39m0\u001b[39m]\n\u001b[0;32m    713\u001b[0m \u001b[39mif\u001b[39;00m \u001b[39mnot\u001b[39;00m (\u001b[39mself\u001b[39m\u001b[39m.\u001b[39m_A\u001b[39m.\u001b[39mndim \u001b[39m==\u001b[39m \u001b[39m2\u001b[39m\n\u001b[0;32m    714\u001b[0m         \u001b[39mor\u001b[39;00m \u001b[39mself\u001b[39m\u001b[39m.\u001b[39m_A\u001b[39m.\u001b[39mndim \u001b[39m==\u001b[39m \u001b[39m3\u001b[39m \u001b[39mand\u001b[39;00m \u001b[39mself\u001b[39m\u001b[39m.\u001b[39m_A\u001b[39m.\u001b[39mshape[\u001b[39m-\u001b[39m\u001b[39m1\u001b[39m] \u001b[39min\u001b[39;00m [\u001b[39m3\u001b[39m, \u001b[39m4\u001b[39m]):\n\u001b[1;32m--> 715\u001b[0m     \u001b[39mraise\u001b[39;00m \u001b[39mTypeError\u001b[39;00m(\u001b[39m\"\u001b[39m\u001b[39mInvalid shape \u001b[39m\u001b[39m{}\u001b[39;00m\u001b[39m for image data\u001b[39m\u001b[39m\"\u001b[39m\n\u001b[0;32m    716\u001b[0m                     \u001b[39m.\u001b[39mformat(\u001b[39mself\u001b[39m\u001b[39m.\u001b[39m_A\u001b[39m.\u001b[39mshape))\n\u001b[0;32m    718\u001b[0m \u001b[39mif\u001b[39;00m \u001b[39mself\u001b[39m\u001b[39m.\u001b[39m_A\u001b[39m.\u001b[39mndim \u001b[39m==\u001b[39m \u001b[39m3\u001b[39m:\n\u001b[0;32m    719\u001b[0m     \u001b[39m# If the input data has values outside the valid range (after\u001b[39;00m\n\u001b[0;32m    720\u001b[0m     \u001b[39m# normalisation), we issue a warning and then clip X to the bounds\u001b[39;00m\n\u001b[0;32m    721\u001b[0m     \u001b[39m# - otherwise casting wraps extreme values, hiding outliers and\u001b[39;00m\n\u001b[0;32m    722\u001b[0m     \u001b[39m# making reliable interpretation impossible.\u001b[39;00m\n\u001b[0;32m    723\u001b[0m     high \u001b[39m=\u001b[39m \u001b[39m255\u001b[39m \u001b[39mif\u001b[39;00m np\u001b[39m.\u001b[39missubdtype(\u001b[39mself\u001b[39m\u001b[39m.\u001b[39m_A\u001b[39m.\u001b[39mdtype, np\u001b[39m.\u001b[39minteger) \u001b[39melse\u001b[39;00m \u001b[39m1\u001b[39m\n",
      "\u001b[1;31mTypeError\u001b[0m: Invalid shape (666,) for image data"
     ]
    },
    {
     "data": {
      "image/png": "[encoded data removed]",
      "text/plain": [
       "<Figure size 432x288 with 1 Axes>"
      ]
     },
     "metadata": {
      "needs_background": "light"
     },
     "output_type": "display_data"
    }
   ],
   "source": [
    "import numpy as np\n",
    "import matplotlib.pyplot as plt\n",
    "import matplotlib.image as mpimg\n",
    "\n",
    "def rgb2gray(rgb):\n",
    "    return np.dot(rgb[...,:3], [0.2989, 0.5870, 0.1140])\n",
    "\n",
    "img = mpimg.imread('A1.png')     \n",
    "gray = rgb2gray(img)    \n",
    "plt.imshow(gray, cmap=plt.get_cmap('gray'), vmin=0, vmax=1)\n",
    "plt.show()"
   ]
  },
  {
   "cell_type": "code",
   "execution_count": 15,
   "metadata": {},
   "outputs": [
    {
     "data": {
      "text/plain": [
       "<matplotlib.image.AxesImage at 0x19f48b561d0>"
      ]
     },
     "execution_count": 15,
     "metadata": {},
     "output_type": "execute_result"
    },
    {
     "data": {
      "image/png": "[encoded data removed]",
      "text/plain": [
       "<Figure size 432x288 with 1 Axes>"
      ]
     },
     "metadata": {
      "needs_background": "light"
     },
     "output_type": "display_data"
    }
   ],
   "source": [
    "import cv2\n",
    "img = cv2.imread(\"opencv-greyscale.png\")\n",
    "gray_image = cv2.cvtColor(img,cv2.COLOR_BGR2GRAY)\n",
    "plt.imshow(gray_image)"
   ]
  },
  {
   "cell_type": "code",
   "execution_count": 23,
   "metadata": {},
   "outputs": [
    {
     "data": {
      "image/png": "[encoded data removed]",
      "text/plain": [
       "<Figure size 432x288 with 1 Axes>"
      ]
     },
     "metadata": {
      "needs_background": "light"
     },
     "output_type": "display_data"
    }
   ],
   "source": [
    "plt.hist(gray_image.ravel(), bins=256, range = [0,255])\n",
    "plt.show()"
   ]
  },
  {
   "cell_type": "code",
   "execution_count": 24,
   "metadata": {},
   "outputs": [
    {
     "data": {
      "text/plain": [
       "<matplotlib.image.AxesImage at 0x19f4c5c7ca0>"
      ]
     },
     "execution_count": 24,
     "metadata": {},
     "output_type": "execute_result"
    },
    {
     "data": {
      "image/png": "[encoded data removed]",
      "text/plain": [
       "<Figure size 432x288 with 1 Axes>"
      ]
     },
     "metadata": {
      "needs_background": "light"
     },
     "output_type": "display_data"
    }
   ],
   "source": [
    "img = cv2.imread(\"A9.jpg\")\n",
    "gray_image3 = cv2.cvtColor(img,cv2.COLOR_BGR2GRAY)\n",
    "plt.imshow(gray_image3)"
   ]
  },
  {
   "cell_type": "code",
   "execution_count": 21,
   "metadata": {},
   "outputs": [
    {
     "data": {
      "image/png": "[encoded data removed]",
      "text/plain": [
       "<Figure size 432x288 with 1 Axes>"
      ]
     },
     "metadata": {
      "needs_background": "light"
     },
     "output_type": "display_data"
    }
   ],
   "source": [
    "# Histogram of Image \n",
    "plt.hist(gray_image3.ravel(), bins=256, range = [0,255])\n",
    "plt.show()"
   ]
  },
  {
   "cell_type": "code",
   "execution_count": 16,
   "metadata": {},
   "outputs": [
    {
     "data": {
      "image/png": "[encoded data removed]",
      "text/plain": [
       "<Figure size 432x288 with 1 Axes>"
      ]
     },
     "metadata": {
      "needs_background": "light"
     },
     "output_type": "display_data"
    }
   ],
   "source": [
    "colors = ('b', 'g', 'r')\n",
    " \n",
    "img_ravel = [img[:, :, 0].ravel(), img[:, :, 1].ravel(), img[:,:, 2].ravel()] \n",
    "plt.hist(img_ravel, color=colors, label=colors)\n",
    "plt.legend()\n",
    "plt.show()\n",
    " "
   ]
  },
  {
   "cell_type": "code",
   "execution_count": 17,
   "metadata": {},
   "outputs": [
    {
     "data": {
      "image/png": "[encoded data removed]",
      "text/plain": [
       "<Figure size 432x288 with 1 Axes>"
      ]
     },
     "metadata": {
      "needs_background": "light"
     },
     "output_type": "display_data"
    }
   ],
   "source": [
    "colors = ('b', 'g', 'r')\n",
    "img_ravel = [img[:, :, 0].ravel(), img[:, :, 1].ravel(), img[:,:, 2].ravel()] \n",
    "plt.hist(img_ravel, color=colors, label=colors, bins=256, range=[0,256])\n",
    "plt.legend()\n",
    "plt.show()"
   ]
  },
  {
   "cell_type": "code",
   "execution_count": null,
   "metadata": {},
   "outputs": [],
   "source": []
  },
  {
   "cell_type": "markdown",
   "metadata": {},
   "source": [
    "1. Membaca multiple file menggunakan fungsi glob"
   ]
  },
  {
   "cell_type": "code",
   "execution_count": 7,
   "metadata": {},
   "outputs": [
    {
     "name": "stderr",
     "output_type": "stream",
     "text": [
      "C:\\Users\\ASUS\\AppData\\Local\\Temp\\ipykernel_13304\\483785576.py:17: VisibleDeprecationWarning: Creating an ndarray from ragged nested sequences (which is a list-or-tuple of lists-or-tuples-or ndarrays with different lengths or shapes) is deprecated. If you meant to do this, you must specify 'dtype=object' when creating the ndarray.\n",
      "  row = np.array([avg_color,std_rgb])\n"
     ]
    },
    {
     "ename": "ValueError",
     "evalue": "all the input array dimensions for the concatenation axis must match exactly, but along dimension 1, the array at index 0 has size 5 and the array at index 1 has size 3",
     "output_type": "error",
     "traceback": [
      "\u001b[1;31m---------------------------------------------------------------------------\u001b[0m",
      "\u001b[1;31mValueError\u001b[0m                                Traceback (most recent call last)",
      "\u001b[1;32mi:\\KULIAH\\Semester_8\\PROPOSAL-TA\\Skripsi\\Preprocessing.ipynb Cell 12\u001b[0m in \u001b[0;36m<cell line: 3>\u001b[1;34m()\u001b[0m\n\u001b[0;32m     <a href='vscode-notebook-cell:/i%3A/KULIAH/Semester_8/PROPOSAL-TA/Skripsi/Preprocessing.ipynb#ch0000011?line=16'>17</a>\u001b[0m         row \u001b[39m=\u001b[39m np\u001b[39m.\u001b[39marray([avg_color,std_rgb])\n\u001b[0;32m     <a href='vscode-notebook-cell:/i%3A/KULIAH/Semester_8/PROPOSAL-TA/Skripsi/Preprocessing.ipynb#ch0000011?line=17'>18</a>\u001b[0m         row \u001b[39m=\u001b[39m np\u001b[39m.\u001b[39mhstack([row,[\u001b[39m'\u001b[39m\u001b[39mMatang\u001b[39m\u001b[39m'\u001b[39m]])\n\u001b[1;32m---> <a href='vscode-notebook-cell:/i%3A/KULIAH/Semester_8/PROPOSAL-TA/Skripsi/Preprocessing.ipynb#ch0000011?line=18'>19</a>\u001b[0m         arr \u001b[39m=\u001b[39m np\u001b[39m.\u001b[39;49mvstack([arr,row])\n\u001b[0;32m     <a href='vscode-notebook-cell:/i%3A/KULIAH/Semester_8/PROPOSAL-TA/Skripsi/Preprocessing.ipynb#ch0000011?line=19'>20</a>\u001b[0m \u001b[39mprint\u001b[39m(\u001b[39m\"\u001b[39m\u001b[39mHasil Data 1 : \u001b[39m\u001b[39m\"\u001b[39m)\n\u001b[0;32m     <a href='vscode-notebook-cell:/i%3A/KULIAH/Semester_8/PROPOSAL-TA/Skripsi/Preprocessing.ipynb#ch0000011?line=20'>21</a>\u001b[0m \u001b[39mprint\u001b[39m(arr)\n",
      "File \u001b[1;32m<__array_function__ internals>:180\u001b[0m, in \u001b[0;36mvstack\u001b[1;34m(*args, **kwargs)\u001b[0m\n",
      "File \u001b[1;32m~\\AppData\\Local\\Packages\\PythonSoftwareFoundation.Python.3.10_qbz5n2kfra8p0\\LocalCache\\local-packages\\Python310\\site-packages\\numpy\\core\\shape_base.py:282\u001b[0m, in \u001b[0;36mvstack\u001b[1;34m(tup)\u001b[0m\n\u001b[0;32m    280\u001b[0m \u001b[39mif\u001b[39;00m \u001b[39mnot\u001b[39;00m \u001b[39misinstance\u001b[39m(arrs, \u001b[39mlist\u001b[39m):\n\u001b[0;32m    281\u001b[0m     arrs \u001b[39m=\u001b[39m [arrs]\n\u001b[1;32m--> 282\u001b[0m \u001b[39mreturn\u001b[39;00m _nx\u001b[39m.\u001b[39;49mconcatenate(arrs, \u001b[39m0\u001b[39;49m)\n",
      "File \u001b[1;32m<__array_function__ internals>:180\u001b[0m, in \u001b[0;36mconcatenate\u001b[1;34m(*args, **kwargs)\u001b[0m\n",
      "\u001b[1;31mValueError\u001b[0m: all the input array dimensions for the concatenation axis must match exactly, but along dimension 1, the array at index 0 has size 5 and the array at index 1 has size 3"
     ]
    }
   ],
   "source": [
    "count = 1\n",
    "# Membaca semua gambar pada folder dengan fungsi glob\n",
    "for filename in glob.glob('I:\\KULIAH\\Semester_8\\PROPOSAL-TA\\Skripsi\\Dataset\\Data Training\\Matang\\Crop\\\\*.png'):\n",
    "    myimg = cv2.imread(filename)\n",
    "    b,g,r = cv2.split(myimg)\n",
    "    rgb_image = cv2.merge([r,g,b])\n",
    "    # YCRCB = cv2.cvtColor(rgb_image,cv2.COLOR_RGB2YCrCb)\n",
    "    avg_color_per_row = numpy.average(rgb_image, axis=0)\n",
    "    avg_color = numpy.average(avg_color_per_row, axis=0)\n",
    "    std_rgb = numpy.std(avg_color, axis=0)\n",
    "    # color format is BGR not RGB, cv2 membaca gambar dalam format BGR.\n",
    "    # save into 1 matrix\n",
    "    if count == 1 :\n",
    "        arr = np.hstack([avg_color,std_rgb,['Matang']])\n",
    "        count = 2\n",
    "    else :\n",
    "        row = np.array([avg_color,std_rgb])\n",
    "        row = np.hstack([row,['Matang']])\n",
    "        arr = np.vstack([arr,row])\n",
    "print(\"Hasil Data 1 : \")\n",
    "print(arr)\n"
   ]
  },
  {
   "cell_type": "code",
   "execution_count": 11,
   "metadata": {},
   "outputs": [
    {
     "name": "stdout",
     "output_type": "stream",
     "text": [
      "Hasil Data 2 : \n",
      "[['143.99333333333334' '106.63190476190478' '119.82317460317459'\n",
      "  'Mengkal']\n",
      " ['178.818253968254' '127.06777777777778' '129.90904761904764' 'Mengkal']\n",
      " ['166.2596825396826' '120.3944444444444' '128.7755555555556' 'Mengkal']\n",
      " ['151.27142857142857' '109.77174603174603' '109.8850793650794' 'Mengkal']\n",
      " ['160.69174603174608' '122.71952380952376' '116.93095238095239'\n",
      "  'Mengkal']\n",
      " ['122.39174603174602' '80.92444444444442' '81.24809523809525' 'Mengkal']\n",
      " ['141.47476190476198' '108.39492063492065' '88.62571428571425' 'Mengkal']\n",
      " ['176.78571428571422' '137.71555555555557' '122.1074603174603' 'Mengkal']\n",
      " ['160.10634920634922' '102.53968253968254' '89.42523809523813' 'Mengkal']\n",
      " ['167.30952380952382' '121.42761904761899' '106.77555555555554'\n",
      "  'Mengkal']\n",
      " ['189.9198412698413' '153.8693650793651' '147.47174603174602' 'Mengkal']\n",
      " ['152.42714285714285' '114.33428571428573' '101.72968253968249'\n",
      "  'Mengkal']\n",
      " ['126.84317460317457' '89.63825396825396' '77.31444444444446' 'Mengkal']\n",
      " ['209.9930158730159' '158.57317460317466' '151.8125396825397' 'Mengkal']\n",
      " ['181.1246031746032' '122.92000000000007' '111.61031746031749' 'Mengkal']\n",
      " ['150.20777777777778' '105.45968253968252' '102.40841269841272'\n",
      "  'Mengkal']\n",
      " ['135.35380952380953' '86.98365079365081' '97.20428571428565' 'Mengkal']\n",
      " ['184.94444444444446' '125.608253968254' '118.36761904761903' 'Mengkal']\n",
      " ['184.84920634920636' '136.1506349206349' '130.5714285714286' 'Mengkal']\n",
      " ['156.6057142857143' '102.72349206349205' '82.06476190476191' 'Mengkal']\n",
      " ['139.17936507936503' '94.00142857142859' '98.59984126984125' 'Mengkal']\n",
      " ['174.07460317460314' '119.63142857142847' '139.67539682539683'\n",
      "  'Mengkal']\n",
      " ['142.19380952380953' '98.74698412698413' '93.51460317460317' 'Mengkal']\n",
      " ['124.27539682539683' '76.65761904761905' '91.70158730158734' 'Mengkal']\n",
      " ['158.23761904761912' '105.79809523809519' '110.33873015873019'\n",
      "  'Mengkal']\n",
      " ['147.85079365079363' '111.27476190476189' '101.35507936507942'\n",
      "  'Mengkal']\n",
      " ['141.70650793650788' '80.58650793650794' '91.86492063492062' 'Mengkal']\n",
      " ['133.06317460317464' '86.71238095238095' '75.8647619047619' 'Mengkal']\n",
      " ['142.53047619047618' '90.54571428571424' '79.16365079365082' 'Mengkal']\n",
      " ['150.21301587301588' '109.3538095238095' '95.61079365079364' 'Mengkal']\n",
      " ['176.69492063492063' '123.90936507936502' '91.66285714285713' 'Mengkal']\n",
      " ['179.11412698412693' '119.83936507936507' '124.65492063492064'\n",
      "  'Mengkal']\n",
      " ['189.2161904761905' '124.93857142857144' '126.40285714285712' 'Mengkal']\n",
      " ['168.14587301587298' '93.59047619047622' '85.12412698412697' 'Mengkal']\n",
      " ['148.11920634920628' '100.88793650793656' '111.93253968253966'\n",
      "  'Mengkal']\n",
      " ['165.45507936507943' '109.30666666666664' '107.10857142857145'\n",
      "  'Mengkal']\n",
      " ['157.08761904761903' '110.13873015873014' '55.39269841269839' 'Mengkal']\n",
      " ['160.89000000000007' '110.37412698412697' '105.32015873015872'\n",
      "  'Mengkal']\n",
      " ['217.72650793650791' '181.28333333333327' '171.64444444444442'\n",
      "  'Mengkal']\n",
      " ['144.04650793650794' '112.43968253968255' '118.9096825396825' 'Mengkal']\n",
      " ['139.77587301587297' '100.02206349206345' '93.24428571428574' 'Mengkal']\n",
      " ['121.02079365079365' '79.07063492063492' '84.67634920634922' 'Mengkal']\n",
      " ['168.16000000000003' '120.37206349206349' '116.08571428571429'\n",
      "  'Mengkal']\n",
      " ['133.89111111111103' '87.50031746031746' '69.04206349206349' 'Mengkal']\n",
      " ['182.1401587301587' '122.8161904761905' '120.68126984126987' 'Mengkal']\n",
      " ['170.11126984126986' '119.03634920634919' '78.93333333333334' 'Mengkal']\n",
      " ['117.33317460317454' '74.33555555555556' '79.04793650793651' 'Mengkal']\n",
      " ['156.15269841269847' '97.86936507936505' '98.09539682539682' 'Mengkal']\n",
      " ['176.6611111111111' '133.2595238095238' '105.58380952380952' 'Mengkal']\n",
      " ['161.34126984126988' '122.16396825396825' '128.21809523809526'\n",
      "  'Mengkal']\n",
      " ['109.44301587301585' '72.48285714285716' '83.59412698412699' 'Mengkal']]\n"
     ]
    }
   ],
   "source": [
    "count = 1\n",
    "# Membaca semua gambar pada folder dengan fungsi glob\n",
    "for filename in glob.glob('I:\\KULIAH\\Semester_8\\PROPOSAL-TA\\Skripsi\\Dataset\\Data Training\\Mengkal\\Crop\\\\*.png'):\n",
    "    myimg = cv2.imread(filename)\n",
    "    b,g,r = cv2.split(myimg)\n",
    "    rgb_image = cv2.merge([r,g,b])\n",
    "    # YCRCB = cv2.cvtColor(rgb_image,cv2.COLOR_RGB2YCrCb)\n",
    "    avg_color_per_row = numpy.average(rgb_image, axis=0)\n",
    "    avg_color = numpy.average(avg_color_per_row, axis=0)\n",
    "    # color format is BGR not RGB, cv2 membaca gambar dalam format BGR.\n",
    "    # save into 1 matrix\n",
    "    if count == 1 :\n",
    "        arr2 = np.hstack([avg_color,['Mengkal']])\n",
    "        count = 2\n",
    "    else :\n",
    "        row = np.array(avg_color)\n",
    "        row = np.hstack([row,['Mengkal']])\n",
    "        arr2 = np.vstack([arr2,row])\n",
    "print(\"Hasil Data 2 : \")\n",
    "print(arr2)\n"
   ]
  },
  {
   "cell_type": "code",
   "execution_count": 12,
   "metadata": {},
   "outputs": [
    {
     "name": "stdout",
     "output_type": "stream",
     "text": [
      "Hasil Data 3 : \n",
      "[['109.51698412698408' '99.18682539682541' '102.21000000000002' 'Mentah']\n",
      " ['82.84587301587301' '71.21904761904763' '79.05111111111113' 'Mentah']\n",
      " ['84.17793650793652' '81.86000000000001' '90.13952380952384' 'Mentah']\n",
      " ['85.03888888888886' '71.28873015873015' '77.40476190476187' 'Mentah']\n",
      " ['133.35968253968247' '114.25476190476192' '125.5120634920635' 'Mentah']\n",
      " ['133.47' '110.11587301587302' '116.47365079365078' 'Mentah']\n",
      " ['137.58' '125.6306349206349' '130.308253968254' 'Mentah']\n",
      " ['100.0463492063492' '82.14190476190475' '81.96158730158731' 'Mentah']\n",
      " ['83.69380952380953' '70.034126984127' '78.08793650793655' 'Mentah']\n",
      " ['75.59174603174601' '66.23920634920634' '73.60063492063492' 'Mentah']\n",
      " ['112.01000000000003' '102.99222222222217' '113.49555555555555' 'Mentah']\n",
      " ['107.44047619047619' '89.19063492063495' '101.23031746031744' 'Mentah']\n",
      " ['94.16063492063493' '82.80666666666664' '90.01587301587303' 'Mentah']\n",
      " ['87.0507936507936' '65.20698412698414' '62.55238095238095' 'Mentah']\n",
      " ['110.09571428571427' '90.91079365079365' '102.83682539682536' 'Mentah']\n",
      " ['89.15269841269841' '84.91682539682543' '98.2766666666666' 'Mentah']\n",
      " ['80.97968253968253' '72.6120634920635' '78.70841269841267' 'Mentah']\n",
      " ['107.01873015873016' '93.40349206349207' '97.0314285714286' 'Mentah']\n",
      " ['140.33126984126974' '129.0374603174604' '138.62984126984125' 'Mentah']\n",
      " ['96.23984126984129' '75.28920634920635' '82.25920634920635' 'Mentah']\n",
      " ['82.73507936507937' '71.55349206349207' '82.88698412698412' 'Mentah']\n",
      " ['128.49571428571426' '108.62285714285713' '111.95555555555552' 'Mentah']\n",
      " ['99.94968253968253' '85.86000000000001' '94.47492063492062' 'Mentah']\n",
      " ['126.28952380952381' '104.28333333333327' '109.34730158730154' 'Mentah']\n",
      " ['118.51428571428575' '112.53619047619047' '119.33746031746024' 'Mentah']\n",
      " ['115.68968253968256' '98.61079365079364' '99.42793650793655' 'Mentah']\n",
      " ['102.73476190476192' '93.0671428571429' '97.77603174603178' 'Mentah']\n",
      " ['133.67269841269842' '116.1295238095238' '94.12349206349211' 'Mentah']\n",
      " ['97.22380952380952' '78.00333333333334' '84.61936507936507' 'Mentah']\n",
      " ['98.34444444444445' '93.01634920634919' '108.87777777777774' 'Mentah']\n",
      " ['90.11142857142856' '71.50158730158728' '78.18476190476188' 'Mentah']\n",
      " ['85.20730158730159' '79.67904761904764' '88.48873015873019' 'Mentah']\n",
      " ['103.66079365079365' '90.79873015873015' '97.6152380952381' 'Mentah']\n",
      " ['116.74539682539681' '92.98126984126988' '101.48238095238096' 'Mentah']\n",
      " ['101.21539682539682' '95.87253968253965' '103.76539682539682' 'Mentah']\n",
      " ['136.8028571428571' '127.41809523809522' '132.5125396825397' 'Mentah']\n",
      " ['93.27000000000001' '81.33095238095235' '85.71015873015874' 'Mentah']\n",
      " ['59.04253968253968' '51.097936507936495' '60.657777777777774' 'Mentah']\n",
      " ['97.9177777777778' '74.6579365079365' '81.8530158730159' 'Mentah']\n",
      " ['92.3574603174603' '83.96746031746032' '97.20142857142861' 'Mentah']\n",
      " ['99.03333333333332' '84.45' '90.90634920634919' 'Mentah']\n",
      " ['110.15809523809526' '89.80333333333334' '99.08888888888887' 'Mentah']\n",
      " ['86.13238095238097' '77.36587301587302' '60.944603174603174' 'Mentah']\n",
      " ['85.83460317460317' '74.02349206349206' '58.38269841269843' 'Mentah']\n",
      " ['102.26968253968256' '87.77047619047619' '75.3812698412699' 'Mentah']\n",
      " ['72.27206349206351' '57.33809523809523' '64.43015873015874' 'Mentah']\n",
      " ['68.49841269841268' '53.910793650793636' '40.56904761904763' 'Mentah']\n",
      " ['54.55555555555554' '45.39809523809524' '49.71857142857142' 'Mentah']\n",
      " ['115.35587301587302' '102.5931746031746' '112.90349206349205' 'Mentah']\n",
      " ['84.37047619047618' '72.10238095238094' '73.06619047619049' 'Mentah']\n",
      " ['69.19396825396827' '60.444603174603174' '67.65507936507936' 'Mentah']]\n"
     ]
    }
   ],
   "source": [
    "#    klasifikasi ke 3\n",
    "count = 1\n",
    "# Membaca semua gambar pada folder dengan fungsi glob\n",
    "for filename in glob.glob('I:\\KULIAH\\Semester_8\\PROPOSAL-TA\\Skripsi\\Dataset\\Data Training\\Mentah\\Crop\\\\*.png'):\n",
    "    myimg = cv2.imread(filename)\n",
    "    b,g,r = cv2.split(myimg)\n",
    "    rgb_image = cv2.merge([r,g,b])\n",
    "    # YCRCB = cv2.cvtColor(rgb_image,cv2.COLOR_RGB2YCrCb)\n",
    "    avg_color_per_row = numpy.average(rgb_image, axis=0)\n",
    "    avg_color = numpy.average(avg_color_per_row, axis=0)\n",
    "    # color format is BGR not RGB, cv2 membaca gambar dalam format BGR.\n",
    "    # save into 1 matrix\n",
    "    if count == 1 :\n",
    "        arr3 = np.array(avg_color)\n",
    "        arr3 = np.hstack([avg_color,['Mentah']])\n",
    "        count = 2\n",
    "    else :\n",
    "        row = np.array(avg_color)\n",
    "        row = np.hstack([row,['Mentah']])\n",
    "        arr3 = np.vstack([arr3,row])\n",
    "print(\"Hasil Data 3 : \")\n",
    "print(arr3)"
   ]
  },
  {
   "cell_type": "code",
   "execution_count": 13,
   "metadata": {},
   "outputs": [
    {
     "name": "stdout",
     "output_type": "stream",
     "text": [
      "Hasil Dataset : \n",
      "[['215.54031746031748' '140.09317460317465' '128.08238095238102' 'Matang']\n",
      " ['196.22460317460317' '136.43095238095236' '122.5363492063492' 'Matang']\n",
      " ['224.54190476190476' '150.62412698412703' '127.27095238095237' 'Matang']\n",
      " ['208.38650793650788' '134.01396825396824' '118.83206349206351' 'Matang']\n",
      " ['175.3611111111112' '117.67079365079371' '111.34777777777774' 'Matang']\n",
      " ['201.89936507936508' '142.83968253968254' '146.29269841269843' 'Matang']\n",
      " ['211.2690476190477' '123.29920634920632' '125.33158730158736' 'Matang']\n",
      " ['225.49174603174612' '149.85460317460317' '134.94253968253963' 'Matang']\n",
      " ['181.24555555555557' '98.07523809523813' '95.31698412698412' 'Matang']\n",
      " ['177.30761904761903' '104.75666666666663' '108.69269841269833' 'Matang']\n",
      " ['193.84063492063478' '138.7344444444444' '142.61666666666667' 'Matang']\n",
      " ['180.94857142857148' '107.29365079365084' '123.40650793650796' 'Matang']\n",
      " ['202.9330158730159' '122.55111111111117' '107.85349206349201' 'Matang']\n",
      " ['215.20857142857156' '146.44206349206345' '119.7790476190476' 'Matang']\n",
      " ['190.41666666666674' '114.56428571428573' '93.86396825396827' 'Matang']\n",
      " ['218.9128571428572' '162.62793650793645' '128.8711111111111' 'Matang']\n",
      " ['226.94523809523824' '162.43269841269841' '114.41412698412698' 'Matang']\n",
      " ['198.50015873015872' '114.49190476190476' '102.94476190476192' 'Matang']\n",
      " ['206.40126984126985' '138.59301587301584' '120.80015873015871' 'Matang']\n",
      " ['131.46841269841272' '71.48619047619049' '90.92412698412701' 'Matang']\n",
      " ['187.5495238095238' '121.12349206349205' '116.07650793650794' 'Matang']\n",
      " ['228.03825396825394' '159.72920634920638' '142.3946031746031' 'Matang']\n",
      " ['203.29587301587298' '142.98761904761903' '115.04492063492064' 'Matang']\n",
      " ['201.5430158730158' '133.8703174603175' '113.96507936507936' 'Matang']\n",
      " ['143.46190476190478' '96.42000000000002' '112.23825396825396' 'Matang']\n",
      " ['173.91333333333333' '112.86190476190475' '107.02952380952382' 'Matang']\n",
      " ['166.02460317460316' '70.09873015873018' '95.13206349206351' 'Matang']\n",
      " ['147.40984126984128' '106.14666666666672' '133.4587301587301' 'Matang']\n",
      " ['175.1193650793651' '96.365873015873' '123.58111111111104' 'Matang']\n",
      " ['199.87428571428572' '128.8744444444444' '127.80063492063495' 'Matang']\n",
      " ['158.995873015873' '90.40825396825394' '113.80095238095238' 'Matang']\n",
      " ['141.145873015873' '84.72857142857144' '93.21000000000005' 'Matang']\n",
      " ['169.41825396825396' '110.37682539682537' '130.82000000000002' 'Matang']\n",
      " ['202.78206349206354' '127.96936507936512' '127.41031746031749' 'Matang']\n",
      " ['134.4922222222222' '72.36063492063495' '97.84730158730159' 'Matang']\n",
      " ['146.06158730158728' '95.71142857142853' '115.32809523809527' 'Matang']\n",
      " ['202.86714285714277' '116.64841269841273' '133.53396825396825' 'Matang']\n",
      " ['161.04682539682545' '113.41142857142859' '112.36492063492062' 'Matang']\n",
      " ['102.151746031746' '55.68412698412697' '74.28190476190474' 'Matang']\n",
      " ['166.43396825396823' '116.77904761904762' '133.87031746031744' 'Matang']\n",
      " ['156.75507936507938' '80.01047619047618' '73.06269841269842' 'Matang']\n",
      " ['204.62777777777774' '149.15476190476193' '134.75222222222223' 'Matang']\n",
      " ['154.36222222222224' '95.50777777777776' '108.4250793650794' 'Matang']\n",
      " ['212.76079365079366' '167.01825396825402' '137.70809523809518' 'Matang']\n",
      " ['209.80619047619055' '137.39698412698414' '129.4650793650794' 'Matang']\n",
      " ['147.41825396825394' '95.5012698412698' '121.33698412698413' 'Matang']\n",
      " ['180.34777777777785' '107.75063492063494' '118.08285714285716' 'Matang']\n",
      " ['191.5807936507936' '115.6173015873016' '106.75301587301587' 'Matang']\n",
      " ['216.58349206349206' '132.34777777777776' '128.93761904761908' 'Matang']\n",
      " ['169.94285714285712' '94.55126984126984' '119.4419047619047' 'Matang']\n",
      " ['217.73396825396821' '140.81746031746036' '126.627619047619' 'Matang']\n",
      " ['143.99333333333334' '106.63190476190478' '119.82317460317459'\n",
      "  'Mengkal']\n",
      " ['178.818253968254' '127.06777777777778' '129.90904761904764' 'Mengkal']\n",
      " ['166.2596825396826' '120.3944444444444' '128.7755555555556' 'Mengkal']\n",
      " ['151.27142857142857' '109.77174603174603' '109.8850793650794' 'Mengkal']\n",
      " ['160.69174603174608' '122.71952380952376' '116.93095238095239'\n",
      "  'Mengkal']\n",
      " ['122.39174603174602' '80.92444444444442' '81.24809523809525' 'Mengkal']\n",
      " ['141.47476190476198' '108.39492063492065' '88.62571428571425' 'Mengkal']\n",
      " ['176.78571428571422' '137.71555555555557' '122.1074603174603' 'Mengkal']\n",
      " ['160.10634920634922' '102.53968253968254' '89.42523809523813' 'Mengkal']\n",
      " ['167.30952380952382' '121.42761904761899' '106.77555555555554'\n",
      "  'Mengkal']\n",
      " ['189.9198412698413' '153.8693650793651' '147.47174603174602' 'Mengkal']\n",
      " ['152.42714285714285' '114.33428571428573' '101.72968253968249'\n",
      "  'Mengkal']\n",
      " ['126.84317460317457' '89.63825396825396' '77.31444444444446' 'Mengkal']\n",
      " ['209.9930158730159' '158.57317460317466' '151.8125396825397' 'Mengkal']\n",
      " ['181.1246031746032' '122.92000000000007' '111.61031746031749' 'Mengkal']\n",
      " ['150.20777777777778' '105.45968253968252' '102.40841269841272'\n",
      "  'Mengkal']\n",
      " ['135.35380952380953' '86.98365079365081' '97.20428571428565' 'Mengkal']\n",
      " ['184.94444444444446' '125.608253968254' '118.36761904761903' 'Mengkal']\n",
      " ['184.84920634920636' '136.1506349206349' '130.5714285714286' 'Mengkal']\n",
      " ['156.6057142857143' '102.72349206349205' '82.06476190476191' 'Mengkal']\n",
      " ['139.17936507936503' '94.00142857142859' '98.59984126984125' 'Mengkal']\n",
      " ['174.07460317460314' '119.63142857142847' '139.67539682539683'\n",
      "  'Mengkal']\n",
      " ['142.19380952380953' '98.74698412698413' '93.51460317460317' 'Mengkal']\n",
      " ['124.27539682539683' '76.65761904761905' '91.70158730158734' 'Mengkal']\n",
      " ['158.23761904761912' '105.79809523809519' '110.33873015873019'\n",
      "  'Mengkal']\n",
      " ['147.85079365079363' '111.27476190476189' '101.35507936507942'\n",
      "  'Mengkal']\n",
      " ['141.70650793650788' '80.58650793650794' '91.86492063492062' 'Mengkal']\n",
      " ['133.06317460317464' '86.71238095238095' '75.8647619047619' 'Mengkal']\n",
      " ['142.53047619047618' '90.54571428571424' '79.16365079365082' 'Mengkal']\n",
      " ['150.21301587301588' '109.3538095238095' '95.61079365079364' 'Mengkal']\n",
      " ['176.69492063492063' '123.90936507936502' '91.66285714285713' 'Mengkal']\n",
      " ['179.11412698412693' '119.83936507936507' '124.65492063492064'\n",
      "  'Mengkal']\n",
      " ['189.2161904761905' '124.93857142857144' '126.40285714285712' 'Mengkal']\n",
      " ['168.14587301587298' '93.59047619047622' '85.12412698412697' 'Mengkal']\n",
      " ['148.11920634920628' '100.88793650793656' '111.93253968253966'\n",
      "  'Mengkal']\n",
      " ['165.45507936507943' '109.30666666666664' '107.10857142857145'\n",
      "  'Mengkal']\n",
      " ['157.08761904761903' '110.13873015873014' '55.39269841269839' 'Mengkal']\n",
      " ['160.89000000000007' '110.37412698412697' '105.32015873015872'\n",
      "  'Mengkal']\n",
      " ['217.72650793650791' '181.28333333333327' '171.64444444444442'\n",
      "  'Mengkal']\n",
      " ['144.04650793650794' '112.43968253968255' '118.9096825396825' 'Mengkal']\n",
      " ['139.77587301587297' '100.02206349206345' '93.24428571428574' 'Mengkal']\n",
      " ['121.02079365079365' '79.07063492063492' '84.67634920634922' 'Mengkal']\n",
      " ['168.16000000000003' '120.37206349206349' '116.08571428571429'\n",
      "  'Mengkal']\n",
      " ['133.89111111111103' '87.50031746031746' '69.04206349206349' 'Mengkal']\n",
      " ['182.1401587301587' '122.8161904761905' '120.68126984126987' 'Mengkal']\n",
      " ['170.11126984126986' '119.03634920634919' '78.93333333333334' 'Mengkal']\n",
      " ['117.33317460317454' '74.33555555555556' '79.04793650793651' 'Mengkal']\n",
      " ['156.15269841269847' '97.86936507936505' '98.09539682539682' 'Mengkal']\n",
      " ['176.6611111111111' '133.2595238095238' '105.58380952380952' 'Mengkal']\n",
      " ['161.34126984126988' '122.16396825396825' '128.21809523809526'\n",
      "  'Mengkal']\n",
      " ['109.44301587301585' '72.48285714285716' '83.59412698412699' 'Mengkal']\n",
      " ['109.51698412698408' '99.18682539682541' '102.21000000000002' 'Mentah']\n",
      " ['82.84587301587301' '71.21904761904763' '79.05111111111113' 'Mentah']\n",
      " ['84.17793650793652' '81.86000000000001' '90.13952380952384' 'Mentah']\n",
      " ['85.03888888888886' '71.28873015873015' '77.40476190476187' 'Mentah']\n",
      " ['133.35968253968247' '114.25476190476192' '125.5120634920635' 'Mentah']\n",
      " ['133.47' '110.11587301587302' '116.47365079365078' 'Mentah']\n",
      " ['137.58' '125.6306349206349' '130.308253968254' 'Mentah']\n",
      " ['100.0463492063492' '82.14190476190475' '81.96158730158731' 'Mentah']\n",
      " ['83.69380952380953' '70.034126984127' '78.08793650793655' 'Mentah']\n",
      " ['75.59174603174601' '66.23920634920634' '73.60063492063492' 'Mentah']\n",
      " ['112.01000000000003' '102.99222222222217' '113.49555555555555' 'Mentah']\n",
      " ['107.44047619047619' '89.19063492063495' '101.23031746031744' 'Mentah']\n",
      " ['94.16063492063493' '82.80666666666664' '90.01587301587303' 'Mentah']\n",
      " ['87.0507936507936' '65.20698412698414' '62.55238095238095' 'Mentah']\n",
      " ['110.09571428571427' '90.91079365079365' '102.83682539682536' 'Mentah']\n",
      " ['89.15269841269841' '84.91682539682543' '98.2766666666666' 'Mentah']\n",
      " ['80.97968253968253' '72.6120634920635' '78.70841269841267' 'Mentah']\n",
      " ['107.01873015873016' '93.40349206349207' '97.0314285714286' 'Mentah']\n",
      " ['140.33126984126974' '129.0374603174604' '138.62984126984125' 'Mentah']\n",
      " ['96.23984126984129' '75.28920634920635' '82.25920634920635' 'Mentah']\n",
      " ['82.73507936507937' '71.55349206349207' '82.88698412698412' 'Mentah']\n",
      " ['128.49571428571426' '108.62285714285713' '111.95555555555552' 'Mentah']\n",
      " ['99.94968253968253' '85.86000000000001' '94.47492063492062' 'Mentah']\n",
      " ['126.28952380952381' '104.28333333333327' '109.34730158730154' 'Mentah']\n",
      " ['118.51428571428575' '112.53619047619047' '119.33746031746024' 'Mentah']\n",
      " ['115.68968253968256' '98.61079365079364' '99.42793650793655' 'Mentah']\n",
      " ['102.73476190476192' '93.0671428571429' '97.77603174603178' 'Mentah']\n",
      " ['133.67269841269842' '116.1295238095238' '94.12349206349211' 'Mentah']\n",
      " ['97.22380952380952' '78.00333333333334' '84.61936507936507' 'Mentah']\n",
      " ['98.34444444444445' '93.01634920634919' '108.87777777777774' 'Mentah']\n",
      " ['90.11142857142856' '71.50158730158728' '78.18476190476188' 'Mentah']\n",
      " ['85.20730158730159' '79.67904761904764' '88.48873015873019' 'Mentah']\n",
      " ['103.66079365079365' '90.79873015873015' '97.6152380952381' 'Mentah']\n",
      " ['116.74539682539681' '92.98126984126988' '101.48238095238096' 'Mentah']\n",
      " ['101.21539682539682' '95.87253968253965' '103.76539682539682' 'Mentah']\n",
      " ['136.8028571428571' '127.41809523809522' '132.5125396825397' 'Mentah']\n",
      " ['93.27000000000001' '81.33095238095235' '85.71015873015874' 'Mentah']\n",
      " ['59.04253968253968' '51.097936507936495' '60.657777777777774' 'Mentah']\n",
      " ['97.9177777777778' '74.6579365079365' '81.8530158730159' 'Mentah']\n",
      " ['92.3574603174603' '83.96746031746032' '97.20142857142861' 'Mentah']\n",
      " ['99.03333333333332' '84.45' '90.90634920634919' 'Mentah']\n",
      " ['110.15809523809526' '89.80333333333334' '99.08888888888887' 'Mentah']\n",
      " ['86.13238095238097' '77.36587301587302' '60.944603174603174' 'Mentah']\n",
      " ['85.83460317460317' '74.02349206349206' '58.38269841269843' 'Mentah']\n",
      " ['102.26968253968256' '87.77047619047619' '75.3812698412699' 'Mentah']\n",
      " ['72.27206349206351' '57.33809523809523' '64.43015873015874' 'Mentah']\n",
      " ['68.49841269841268' '53.910793650793636' '40.56904761904763' 'Mentah']\n",
      " ['54.55555555555554' '45.39809523809524' '49.71857142857142' 'Mentah']\n",
      " ['115.35587301587302' '102.5931746031746' '112.90349206349205' 'Mentah']\n",
      " ['84.37047619047618' '72.10238095238094' '73.06619047619049' 'Mentah']\n",
      " ['69.19396825396827' '60.444603174603174' '67.65507936507936' 'Mentah']]\n"
     ]
    }
   ],
   "source": [
    "# Menggabungkan semua data menjadi 1 matrix utuh\n",
    "dataset = np.vstack([arr,arr2])\n",
    "dataset  = np.vstack([dataset,arr3])\n",
    "print(\"Hasil Dataset : \")\n",
    "print(dataset)\n"
   ]
  },
  {
   "cell_type": "code",
   "execution_count": 14,
   "metadata": {},
   "outputs": [
    {
     "data": {
      "text/html": [
       "<div>\n",
       "<style scoped>\n",
       "    .dataframe tbody tr th:only-of-type {\n",
       "        vertical-align: middle;\n",
       "    }\n",
       "\n",
       "    .dataframe tbody tr th {\n",
       "        vertical-align: top;\n",
       "    }\n",
       "\n",
       "    .dataframe thead th {\n",
       "        text-align: right;\n",
       "    }\n",
       "</style>\n",
       "<table border=\"1\" class=\"dataframe\">\n",
       "  <thead>\n",
       "    <tr style=\"text-align: right;\">\n",
       "      <th></th>\n",
       "      <th>0</th>\n",
       "      <th>1</th>\n",
       "      <th>2</th>\n",
       "      <th>3</th>\n",
       "    </tr>\n",
       "  </thead>\n",
       "  <tbody>\n",
       "    <tr>\n",
       "      <th>0</th>\n",
       "      <td>215.54031746031748</td>\n",
       "      <td>140.09317460317465</td>\n",
       "      <td>128.08238095238102</td>\n",
       "      <td>Matang</td>\n",
       "    </tr>\n",
       "    <tr>\n",
       "      <th>1</th>\n",
       "      <td>196.22460317460317</td>\n",
       "      <td>136.43095238095236</td>\n",
       "      <td>122.5363492063492</td>\n",
       "      <td>Matang</td>\n",
       "    </tr>\n",
       "    <tr>\n",
       "      <th>2</th>\n",
       "      <td>224.54190476190476</td>\n",
       "      <td>150.62412698412703</td>\n",
       "      <td>127.27095238095237</td>\n",
       "      <td>Matang</td>\n",
       "    </tr>\n",
       "    <tr>\n",
       "      <th>3</th>\n",
       "      <td>208.38650793650788</td>\n",
       "      <td>134.01396825396824</td>\n",
       "      <td>118.83206349206351</td>\n",
       "      <td>Matang</td>\n",
       "    </tr>\n",
       "    <tr>\n",
       "      <th>4</th>\n",
       "      <td>175.3611111111112</td>\n",
       "      <td>117.67079365079371</td>\n",
       "      <td>111.34777777777774</td>\n",
       "      <td>Matang</td>\n",
       "    </tr>\n",
       "  </tbody>\n",
       "</table>\n",
       "</div>"
      ],
      "text/plain": [
       "                    0                   1                   2       3\n",
       "0  215.54031746031748  140.09317460317465  128.08238095238102  Matang\n",
       "1  196.22460317460317  136.43095238095236   122.5363492063492  Matang\n",
       "2  224.54190476190476  150.62412698412703  127.27095238095237  Matang\n",
       "3  208.38650793650788  134.01396825396824  118.83206349206351  Matang\n",
       "4   175.3611111111112  117.67079365079371  111.34777777777774  Matang"
      ]
     },
     "execution_count": 14,
     "metadata": {},
     "output_type": "execute_result"
    }
   ],
   "source": [
    "df = pd.DataFrame(dataset)\n",
    "df.head()"
   ]
  },
  {
   "cell_type": "code",
   "execution_count": 15,
   "metadata": {},
   "outputs": [
    {
     "data": {
      "text/html": [
       "<div>\n",
       "<style scoped>\n",
       "    .dataframe tbody tr th:only-of-type {\n",
       "        vertical-align: middle;\n",
       "    }\n",
       "\n",
       "    .dataframe tbody tr th {\n",
       "        vertical-align: top;\n",
       "    }\n",
       "\n",
       "    .dataframe thead th {\n",
       "        text-align: right;\n",
       "    }\n",
       "</style>\n",
       "<table border=\"1\" class=\"dataframe\">\n",
       "  <thead>\n",
       "    <tr style=\"text-align: right;\">\n",
       "      <th></th>\n",
       "      <th>Red</th>\n",
       "      <th>Green</th>\n",
       "      <th>Blue</th>\n",
       "      <th>Class</th>\n",
       "    </tr>\n",
       "  </thead>\n",
       "  <tbody>\n",
       "    <tr>\n",
       "      <th>0</th>\n",
       "      <td>215.54031746031748</td>\n",
       "      <td>140.09317460317465</td>\n",
       "      <td>128.08238095238102</td>\n",
       "      <td>Matang</td>\n",
       "    </tr>\n",
       "    <tr>\n",
       "      <th>1</th>\n",
       "      <td>196.22460317460317</td>\n",
       "      <td>136.43095238095236</td>\n",
       "      <td>122.5363492063492</td>\n",
       "      <td>Matang</td>\n",
       "    </tr>\n",
       "    <tr>\n",
       "      <th>2</th>\n",
       "      <td>224.54190476190476</td>\n",
       "      <td>150.62412698412703</td>\n",
       "      <td>127.27095238095237</td>\n",
       "      <td>Matang</td>\n",
       "    </tr>\n",
       "    <tr>\n",
       "      <th>3</th>\n",
       "      <td>208.38650793650788</td>\n",
       "      <td>134.01396825396824</td>\n",
       "      <td>118.83206349206351</td>\n",
       "      <td>Matang</td>\n",
       "    </tr>\n",
       "    <tr>\n",
       "      <th>4</th>\n",
       "      <td>175.3611111111112</td>\n",
       "      <td>117.67079365079371</td>\n",
       "      <td>111.34777777777774</td>\n",
       "      <td>Matang</td>\n",
       "    </tr>\n",
       "  </tbody>\n",
       "</table>\n",
       "</div>"
      ],
      "text/plain": [
       "                  Red               Green                Blue   Class\n",
       "0  215.54031746031748  140.09317460317465  128.08238095238102  Matang\n",
       "1  196.22460317460317  136.43095238095236   122.5363492063492  Matang\n",
       "2  224.54190476190476  150.62412698412703  127.27095238095237  Matang\n",
       "3  208.38650793650788  134.01396825396824  118.83206349206351  Matang\n",
       "4   175.3611111111112  117.67079365079371  111.34777777777774  Matang"
      ]
     },
     "execution_count": 15,
     "metadata": {},
     "output_type": "execute_result"
    }
   ],
   "source": [
    "dataset = df.rename(columns={0:'Red'} | {1:'Green'} | {2:'Blue'} | {3:'Class'})\n",
    "dataset.head()"
   ]
  },
  {
   "cell_type": "code",
   "execution_count": 8,
   "metadata": {},
   "outputs": [],
   "source": [
    "dataset.to_csv('DatasetTrainingRGBCrop.csv')"
   ]
  },
  {
   "cell_type": "code",
   "execution_count": 6,
   "metadata": {},
   "outputs": [
    {
     "name": "stdout",
     "output_type": "stream",
     "text": [
      "Save Dataset : \n",
      "Dataset Tersimpan dengan nama : DataTesting.csv\n"
     ]
    }
   ],
   "source": [
    "print(\"Save Dataset : \")\n",
    "nameFile = str(input('Input nama file : '))\n",
    "nameFile = nameFile + '.csv'\n",
    "with open(nameFile, 'w', newline='') as file:\n",
    "    mywriter = csv.writer(file, delimiter=',')\n",
    "    mywriter.writerows(df)\n",
    "print(\"Dataset Tersimpan dengan nama : \" + nameFile)"
   ]
  },
  {
   "cell_type": "code",
   "execution_count": 41,
   "metadata": {},
   "outputs": [
    {
     "data": {
      "text/html": [
       "<div>\n",
       "<style scoped>\n",
       "    .dataframe tbody tr th:only-of-type {\n",
       "        vertical-align: middle;\n",
       "    }\n",
       "\n",
       "    .dataframe tbody tr th {\n",
       "        vertical-align: top;\n",
       "    }\n",
       "\n",
       "    .dataframe thead th {\n",
       "        text-align: right;\n",
       "    }\n",
       "</style>\n",
       "<table border=\"1\" class=\"dataframe\">\n",
       "  <thead>\n",
       "    <tr style=\"text-align: right;\">\n",
       "      <th></th>\n",
       "      <th>0</th>\n",
       "      <th>1</th>\n",
       "      <th>2</th>\n",
       "      <th>3</th>\n",
       "    </tr>\n",
       "  </thead>\n",
       "  <tbody>\n",
       "    <tr>\n",
       "      <th>0</th>\n",
       "      <td>48.04545000000001</td>\n",
       "      <td>45.15160000000001</td>\n",
       "      <td>61.19440000000002</td>\n",
       "      <td>Matang</td>\n",
       "    </tr>\n",
       "    <tr>\n",
       "      <th>1</th>\n",
       "      <td>29.893099999999983</td>\n",
       "      <td>28.60440000000001</td>\n",
       "      <td>38.20484999999999</td>\n",
       "      <td>Matang</td>\n",
       "    </tr>\n",
       "    <tr>\n",
       "      <th>2</th>\n",
       "      <td>37.193549999999995</td>\n",
       "      <td>35.8761</td>\n",
       "      <td>52.2011</td>\n",
       "      <td>Matang</td>\n",
       "    </tr>\n",
       "    <tr>\n",
       "      <th>3</th>\n",
       "      <td>28.78585000000001</td>\n",
       "      <td>26.1413</td>\n",
       "      <td>36.406400000000005</td>\n",
       "      <td>Matang</td>\n",
       "    </tr>\n",
       "    <tr>\n",
       "      <th>4</th>\n",
       "      <td>24.757649999999995</td>\n",
       "      <td>24.131050000000013</td>\n",
       "      <td>32.79525</td>\n",
       "      <td>Matang</td>\n",
       "    </tr>\n",
       "  </tbody>\n",
       "</table>\n",
       "</div>"
      ],
      "text/plain": [
       "                    0                   1                   2       3\n",
       "0   48.04545000000001   45.15160000000001   61.19440000000002  Matang\n",
       "1  29.893099999999983   28.60440000000001   38.20484999999999  Matang\n",
       "2  37.193549999999995             35.8761             52.2011  Matang\n",
       "3   28.78585000000001             26.1413  36.406400000000005  Matang\n",
       "4  24.757649999999995  24.131050000000013            32.79525  Matang"
      ]
     },
     "execution_count": 41,
     "metadata": {},
     "output_type": "execute_result"
    }
   ],
   "source": [
    "df = pd.DataFrame(dataset)\n",
    "df.head()"
   ]
  },
  {
   "cell_type": "code",
   "execution_count": null,
   "metadata": {},
   "outputs": [],
   "source": []
  },
  {
   "cell_type": "code",
   "execution_count": 44,
   "metadata": {},
   "outputs": [],
   "source": [
    "df.to_csv('TrainingSawit.csv')"
   ]
  },
  {
   "cell_type": "code",
   "execution_count": 49,
   "metadata": {},
   "outputs": [
    {
     "data": {
      "text/html": [
       "<div>\n",
       "<style scoped>\n",
       "    .dataframe tbody tr th:only-of-type {\n",
       "        vertical-align: middle;\n",
       "    }\n",
       "\n",
       "    .dataframe tbody tr th {\n",
       "        vertical-align: top;\n",
       "    }\n",
       "\n",
       "    .dataframe thead th {\n",
       "        text-align: right;\n",
       "    }\n",
       "</style>\n",
       "<table border=\"1\" class=\"dataframe\">\n",
       "  <thead>\n",
       "    <tr style=\"text-align: right;\">\n",
       "      <th></th>\n",
       "      <th>0</th>\n",
       "      <th>1</th>\n",
       "      <th>2</th>\n",
       "      <th>3</th>\n",
       "    </tr>\n",
       "  </thead>\n",
       "  <tbody>\n",
       "    <tr>\n",
       "      <th>0</th>\n",
       "      <td>48.04545000000001</td>\n",
       "      <td>45.15160000000001</td>\n",
       "      <td>61.19440000000002</td>\n",
       "      <td>Matang</td>\n",
       "    </tr>\n",
       "    <tr>\n",
       "      <th>1</th>\n",
       "      <td>29.893099999999983</td>\n",
       "      <td>28.60440000000001</td>\n",
       "      <td>38.20484999999999</td>\n",
       "      <td>Matang</td>\n",
       "    </tr>\n",
       "    <tr>\n",
       "      <th>2</th>\n",
       "      <td>37.193549999999995</td>\n",
       "      <td>35.8761</td>\n",
       "      <td>52.2011</td>\n",
       "      <td>Matang</td>\n",
       "    </tr>\n",
       "    <tr>\n",
       "      <th>3</th>\n",
       "      <td>28.78585000000001</td>\n",
       "      <td>26.1413</td>\n",
       "      <td>36.406400000000005</td>\n",
       "      <td>Matang</td>\n",
       "    </tr>\n",
       "    <tr>\n",
       "      <th>4</th>\n",
       "      <td>24.757649999999995</td>\n",
       "      <td>24.131050000000013</td>\n",
       "      <td>32.79525</td>\n",
       "      <td>Matang</td>\n",
       "    </tr>\n",
       "  </tbody>\n",
       "</table>\n",
       "</div>"
      ],
      "text/plain": [
       "                    0                   1                   2       3\n",
       "0   48.04545000000001   45.15160000000001   61.19440000000002  Matang\n",
       "1  29.893099999999983   28.60440000000001   38.20484999999999  Matang\n",
       "2  37.193549999999995             35.8761             52.2011  Matang\n",
       "3   28.78585000000001             26.1413  36.406400000000005  Matang\n",
       "4  24.757649999999995  24.131050000000013            32.79525  Matang"
      ]
     },
     "execution_count": 49,
     "metadata": {},
     "output_type": "execute_result"
    }
   ],
   "source": [
    "df.head()"
   ]
  },
  {
   "cell_type": "code",
   "execution_count": 50,
   "metadata": {},
   "outputs": [
    {
     "data": {
      "text/html": [
       "<div>\n",
       "<style scoped>\n",
       "    .dataframe tbody tr th:only-of-type {\n",
       "        vertical-align: middle;\n",
       "    }\n",
       "\n",
       "    .dataframe tbody tr th {\n",
       "        vertical-align: top;\n",
       "    }\n",
       "\n",
       "    .dataframe thead th {\n",
       "        text-align: right;\n",
       "    }\n",
       "</style>\n",
       "<table border=\"1\" class=\"dataframe\">\n",
       "  <thead>\n",
       "    <tr style=\"text-align: right;\">\n",
       "      <th></th>\n",
       "      <th>Blue</th>\n",
       "      <th>Green</th>\n",
       "      <th>Read</th>\n",
       "      <th>Class</th>\n",
       "    </tr>\n",
       "  </thead>\n",
       "  <tbody>\n",
       "    <tr>\n",
       "      <th>0</th>\n",
       "      <td>48.04545000000001</td>\n",
       "      <td>45.15160000000001</td>\n",
       "      <td>61.19440000000002</td>\n",
       "      <td>Matang</td>\n",
       "    </tr>\n",
       "    <tr>\n",
       "      <th>1</th>\n",
       "      <td>29.893099999999983</td>\n",
       "      <td>28.60440000000001</td>\n",
       "      <td>38.20484999999999</td>\n",
       "      <td>Matang</td>\n",
       "    </tr>\n",
       "    <tr>\n",
       "      <th>2</th>\n",
       "      <td>37.193549999999995</td>\n",
       "      <td>35.8761</td>\n",
       "      <td>52.2011</td>\n",
       "      <td>Matang</td>\n",
       "    </tr>\n",
       "    <tr>\n",
       "      <th>3</th>\n",
       "      <td>28.78585000000001</td>\n",
       "      <td>26.1413</td>\n",
       "      <td>36.406400000000005</td>\n",
       "      <td>Matang</td>\n",
       "    </tr>\n",
       "    <tr>\n",
       "      <th>4</th>\n",
       "      <td>24.757649999999995</td>\n",
       "      <td>24.131050000000013</td>\n",
       "      <td>32.79525</td>\n",
       "      <td>Matang</td>\n",
       "    </tr>\n",
       "    <tr>\n",
       "      <th>...</th>\n",
       "      <td>...</td>\n",
       "      <td>...</td>\n",
       "      <td>...</td>\n",
       "      <td>...</td>\n",
       "    </tr>\n",
       "    <tr>\n",
       "      <th>162</th>\n",
       "      <td>17.787300000000005</td>\n",
       "      <td>18.17545</td>\n",
       "      <td>20.819650000000003</td>\n",
       "      <td>Mentah</td>\n",
       "    </tr>\n",
       "    <tr>\n",
       "      <th>163</th>\n",
       "      <td>42.49545000000001</td>\n",
       "      <td>42.3604</td>\n",
       "      <td>48.4137</td>\n",
       "      <td>Mentah</td>\n",
       "    </tr>\n",
       "    <tr>\n",
       "      <th>164</th>\n",
       "      <td>46.859100000000005</td>\n",
       "      <td>49.20265000000001</td>\n",
       "      <td>56.645450000000025</td>\n",
       "      <td>Mentah</td>\n",
       "    </tr>\n",
       "    <tr>\n",
       "      <th>165</th>\n",
       "      <td>32.3163</td>\n",
       "      <td>32.43110000000001</td>\n",
       "      <td>37.09374999999999</td>\n",
       "      <td>Mentah</td>\n",
       "    </tr>\n",
       "    <tr>\n",
       "      <th>166</th>\n",
       "      <td>30.589449999999992</td>\n",
       "      <td>31.933400000000006</td>\n",
       "      <td>38.2368</td>\n",
       "      <td>Mentah</td>\n",
       "    </tr>\n",
       "  </tbody>\n",
       "</table>\n",
       "<p>167 rows × 4 columns</p>\n",
       "</div>"
      ],
      "text/plain": [
       "                   Blue               Green                Read   Class\n",
       "0     48.04545000000001   45.15160000000001   61.19440000000002  Matang\n",
       "1    29.893099999999983   28.60440000000001   38.20484999999999  Matang\n",
       "2    37.193549999999995             35.8761             52.2011  Matang\n",
       "3     28.78585000000001             26.1413  36.406400000000005  Matang\n",
       "4    24.757649999999995  24.131050000000013            32.79525  Matang\n",
       "..                  ...                 ...                 ...     ...\n",
       "162  17.787300000000005            18.17545  20.819650000000003  Mentah\n",
       "163   42.49545000000001             42.3604             48.4137  Mentah\n",
       "164  46.859100000000005   49.20265000000001  56.645450000000025  Mentah\n",
       "165             32.3163   32.43110000000001   37.09374999999999  Mentah\n",
       "166  30.589449999999992  31.933400000000006             38.2368  Mentah\n",
       "\n",
       "[167 rows x 4 columns]"
      ]
     },
     "execution_count": 50,
     "metadata": {},
     "output_type": "execute_result"
    }
   ],
   "source": [
    "df.rename(columns={0:'Blue'} | {1:'Green'} | {2:'Read'} | {3:'Class'})"
   ]
  },
  {
   "cell_type": "code",
   "execution_count": 47,
   "metadata": {},
   "outputs": [],
   "source": [
    "# header_name=['Blue', 'Green', 'Red', 'Class']\n",
    "# file = pd.read_csv('I:\\KULIAH\\Semester_8\\PROPOSAL-TA\\Skripsi\\\\TrainingSawit.csv',header=None,names=header_name)"
   ]
  }
 ],
 "metadata": {
  "kernelspec": {
   "display_name": "Python 3.10.5 64-bit (windows store)",
   "language": "python",
   "name": "python3"
  },
  "language_info": {
   "codemirror_mode": {
    "name": "ipython",
    "version": 3
   },
   "file_extension": ".py",
   "mimetype": "text/x-python",
   "name": "python",
   "nbconvert_exporter": "python",
   "pygments_lexer": "ipython3",
   "version": "3.10.5"
  },
  "orig_nbformat": 4,
  "vscode": {
   "interpreter": {
    "hash": "65a440aeac0c89e2af7569e0aa53b64434c4b69eb6285e2b0d174d9bca190d54"
   }
  }
 },
 "nbformat": 4,
 "nbformat_minor": 2
}
